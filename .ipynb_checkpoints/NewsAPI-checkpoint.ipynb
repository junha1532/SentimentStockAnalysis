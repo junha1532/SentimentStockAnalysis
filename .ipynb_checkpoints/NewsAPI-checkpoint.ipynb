{
 "cells": [
  {
   "cell_type": "code",
   "execution_count": 1,
   "metadata": {
    "scrolled": true
   },
   "outputs": [],
   "source": [
    "from newsapi import NewsApiClient\n",
    "from newsapi import const\n",
    "import pandas as pd\n",
    "import numpy as np\n",
    "from datetime import datetime, timedelta\n",
    "newsapi = NewsApiClient(api_key='ec1a6ec9b10d4b2db26bee59e6e54eda')"
   ]
  },
  {
   "cell_type": "code",
   "execution_count": 74,
   "metadata": {},
   "outputs": [],
   "source": [
    "all_articles = newsapi.get_everything(q='nasdaq',\n",
    "                                      from_param='2020-03-20T04:00:00',\n",
    "                                      to='2020-03-21T03:59:59',\n",
    "                                      language='en',\n",
    "                                      sort_by='popularity',\n",
    "                                      page_size=100)"
   ]
  },
  {
   "cell_type": "code",
   "execution_count": 75,
   "metadata": {},
   "outputs": [],
   "source": [
    "row_list = []\n",
    "idx = []\n",
    "for article in all_articles['articles']:\n",
    "    idx.append(datetime.strptime(article['publishedAt'], '%Y-%m-%dT%H:%M:%SZ')-timedelta(hours=4))\n",
    "    row_list.append({'title' : article['title'], 'description' : article['description']})\n",
    "df = pd.DataFrame(row_list,columns=['title', 'description'],index=idx).sort_index()\n",
    "df['return'] = -3.79"
   ]
  },
  {
   "cell_type": "code",
   "execution_count": 48,
   "metadata": {},
   "outputs": [],
   "source": [
    "df.to_csv('nasdaq_articles.csv')"
   ]
  },
  {
   "cell_type": "code",
   "execution_count": 76,
   "metadata": {},
   "outputs": [],
   "source": [
    "df_old = pd.read_csv('nasdaq_articles.csv', index_col=0)\n",
    "\n",
    "df_new = pd.concat([df,df_old])\n",
    "df_new.to_csv('nasdaq_articles.csv')"
   ]
  }
 ],
 "metadata": {
  "kernelspec": {
   "display_name": "Python 3",
   "language": "python",
   "name": "python3"
  },
  "language_info": {
   "codemirror_mode": {
    "name": "ipython",
    "version": 3
   },
   "file_extension": ".py",
   "mimetype": "text/x-python",
   "name": "python",
   "nbconvert_exporter": "python",
   "pygments_lexer": "ipython3",
   "version": "3.7.4"
  }
 },
 "nbformat": 4,
 "nbformat_minor": 2
}
