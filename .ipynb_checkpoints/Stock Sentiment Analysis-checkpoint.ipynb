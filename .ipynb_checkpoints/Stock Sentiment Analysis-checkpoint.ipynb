{
 "cells": [
  {
   "cell_type": "code",
   "execution_count": 1,
   "metadata": {},
   "outputs": [],
   "source": [
    "import pandas as pd\n",
    "import numpy as np\n",
    "from bert_embedding import BertEmbedding\n",
    "\n",
    "bert_embedding = BertEmbedding(model='bert_24_1024_16', dataset_name='book_corpus_wiki_en_cased')\n",
    "\n",
    "def bert_embedder(df):\n",
    "    count = 0\n",
    "    batch_size = 10\n",
    "    return_list = []\n",
    "    while count < len(df):\n",
    "        bert_df = bert_embedding.embedding(df.iloc[count:min(count+batch_size,len(df))]['title'], oov_way='avg')\n",
    "        for title in bert_df:\n",
    "            sentence, word_vec = title\n",
    "            word_vec = np.array(word_vec)\n",
    "            return_list.append(np.mean(word_vec, axis=0))\n",
    "            count += 1\n",
    "        if count % batch_size == 0:\n",
    "            print(str(count) + \"/\" + str(len(df)) +\" completed\")\n",
    "    return return_list"
   ]
  },
  {
   "cell_type": "code",
   "execution_count": 2,
   "metadata": {},
   "outputs": [
    {
     "data": {
      "text/html": [
       "<div>\n",
       "<style scoped>\n",
       "    .dataframe tbody tr th:only-of-type {\n",
       "        vertical-align: middle;\n",
       "    }\n",
       "\n",
       "    .dataframe tbody tr th {\n",
       "        vertical-align: top;\n",
       "    }\n",
       "\n",
       "    .dataframe thead th {\n",
       "        text-align: right;\n",
       "    }\n",
       "</style>\n",
       "<table border=\"1\" class=\"dataframe\">\n",
       "  <thead>\n",
       "    <tr style=\"text-align: right;\">\n",
       "      <th></th>\n",
       "      <th>title</th>\n",
       "      <th>description</th>\n",
       "      <th>return</th>\n",
       "      <th>sentiment</th>\n",
       "    </tr>\n",
       "  </thead>\n",
       "  <tbody>\n",
       "    <tr>\n",
       "      <th>3/20/2020 0:26</th>\n",
       "      <td>Apple Is Back In The Buying Zone</td>\n",
       "      <td>Apple currently trading slightly below fair va...</td>\n",
       "      <td>-3.79</td>\n",
       "      <td>1.0</td>\n",
       "    </tr>\n",
       "    <tr>\n",
       "      <th>3/20/2020 2:51</th>\n",
       "      <td>Stock futures jump as tumultuous week comes to...</td>\n",
       "      <td>Central banks have taken measures to buffer th...</td>\n",
       "      <td>-3.79</td>\n",
       "      <td>1.0</td>\n",
       "    </tr>\n",
       "    <tr>\n",
       "      <th>3/20/2020 3:13</th>\n",
       "      <td>Oncopeptides Provides Update Regarding COVID-1...</td>\n",
       "      <td>Oncopeptides AB (Nasdaq Stockholm: ONCO) annou...</td>\n",
       "      <td>-3.79</td>\n",
       "      <td>1.0</td>\n",
       "    </tr>\n",
       "    <tr>\n",
       "      <th>3/20/2020 3:24</th>\n",
       "      <td>US stock futures gain, dollar snaps eight-day ...</td>\n",
       "      <td>Asian stocks and US futures gained and the dol...</td>\n",
       "      <td>-3.79</td>\n",
       "      <td>1.0</td>\n",
       "    </tr>\n",
       "    <tr>\n",
       "      <th>3/20/2020 3:49</th>\n",
       "      <td>Immunovia Publishes the Annual Report for the ...</td>\n",
       "      <td>Immunovia has today published the annual repor...</td>\n",
       "      <td>-3.79</td>\n",
       "      <td>0.0</td>\n",
       "    </tr>\n",
       "  </tbody>\n",
       "</table>\n",
       "</div>"
      ],
      "text/plain": [
       "                                                            title  \\\n",
       "3/20/2020 0:26                   Apple Is Back In The Buying Zone   \n",
       "3/20/2020 2:51  Stock futures jump as tumultuous week comes to...   \n",
       "3/20/2020 3:13  Oncopeptides Provides Update Regarding COVID-1...   \n",
       "3/20/2020 3:24  US stock futures gain, dollar snaps eight-day ...   \n",
       "3/20/2020 3:49  Immunovia Publishes the Annual Report for the ...   \n",
       "\n",
       "                                                      description  return  \\\n",
       "3/20/2020 0:26  Apple currently trading slightly below fair va...   -3.79   \n",
       "3/20/2020 2:51  Central banks have taken measures to buffer th...   -3.79   \n",
       "3/20/2020 3:13  Oncopeptides AB (Nasdaq Stockholm: ONCO) annou...   -3.79   \n",
       "3/20/2020 3:24  Asian stocks and US futures gained and the dol...   -3.79   \n",
       "3/20/2020 3:49  Immunovia has today published the annual repor...   -3.79   \n",
       "\n",
       "                sentiment  \n",
       "3/20/2020 0:26        1.0  \n",
       "3/20/2020 2:51        1.0  \n",
       "3/20/2020 3:13        1.0  \n",
       "3/20/2020 3:24        1.0  \n",
       "3/20/2020 3:49        0.0  "
      ]
     },
     "execution_count": 2,
     "metadata": {},
     "output_type": "execute_result"
    }
   ],
   "source": [
    "df = pd.read_csv('nasdaq_articles.csv', index_col=0)\n",
    "df.head()"
   ]
  },
  {
   "cell_type": "code",
   "execution_count": 3,
   "metadata": {},
   "outputs": [],
   "source": [
    "# Binary Classification\n",
    "# when stock gain is more than 1% then it is a positive market signal\n",
    "df['market_signal'] = np.where(df['return']>=0, 1, 0)"
   ]
  },
  {
   "cell_type": "code",
   "execution_count": null,
   "metadata": {},
   "outputs": [],
   "source": [
    "# when stock gain is more than 1% then it is a positive market signal\n",
    "df['market_signal'] = np.where(df['return']>=1, 1, 0)\n",
    "# when stock loss is more than 1% then it is a negative market signal\n",
    "df['market_signal'] = np.where(df['return']<=-1, -1, df['market_signal'])"
   ]
  },
  {
   "cell_type": "code",
   "execution_count": 4,
   "metadata": {},
   "outputs": [],
   "source": [
    "from sklearn.model_selection import train_test_split\n",
    "X_train, X_test, y_train, y_test = train_test_split(df.drop(['market_signal'],axis=1), df['market_signal'], test_size=0.2, random_state=777, shuffle=True)"
   ]
  },
  {
   "cell_type": "code",
   "execution_count": 5,
   "metadata": {},
   "outputs": [
    {
     "name": "stdout",
     "output_type": "stream",
     "text": [
      "10/798 completed\n",
      "20/798 completed\n",
      "30/798 completed\n",
      "40/798 completed\n",
      "50/798 completed\n",
      "60/798 completed\n",
      "70/798 completed\n",
      "80/798 completed\n",
      "90/798 completed\n",
      "100/798 completed\n",
      "110/798 completed\n",
      "120/798 completed\n",
      "130/798 completed\n",
      "140/798 completed\n",
      "150/798 completed\n",
      "160/798 completed\n",
      "170/798 completed\n",
      "180/798 completed\n",
      "190/798 completed\n",
      "200/798 completed\n",
      "210/798 completed\n",
      "220/798 completed\n",
      "230/798 completed\n",
      "240/798 completed\n",
      "250/798 completed\n",
      "260/798 completed\n",
      "270/798 completed\n",
      "280/798 completed\n",
      "290/798 completed\n",
      "300/798 completed\n",
      "310/798 completed\n",
      "320/798 completed\n",
      "330/798 completed\n",
      "340/798 completed\n",
      "350/798 completed\n",
      "360/798 completed\n",
      "370/798 completed\n",
      "380/798 completed\n",
      "390/798 completed\n",
      "400/798 completed\n",
      "410/798 completed\n",
      "420/798 completed\n",
      "430/798 completed\n",
      "440/798 completed\n",
      "450/798 completed\n",
      "460/798 completed\n",
      "470/798 completed\n",
      "480/798 completed\n",
      "490/798 completed\n",
      "500/798 completed\n",
      "510/798 completed\n",
      "520/798 completed\n",
      "530/798 completed\n",
      "540/798 completed\n",
      "550/798 completed\n",
      "560/798 completed\n",
      "570/798 completed\n",
      "580/798 completed\n",
      "590/798 completed\n",
      "600/798 completed\n",
      "610/798 completed\n",
      "620/798 completed\n",
      "630/798 completed\n",
      "640/798 completed\n",
      "650/798 completed\n",
      "660/798 completed\n",
      "670/798 completed\n",
      "680/798 completed\n",
      "690/798 completed\n",
      "700/798 completed\n",
      "710/798 completed\n",
      "720/798 completed\n",
      "730/798 completed\n",
      "740/798 completed\n",
      "750/798 completed\n",
      "760/798 completed\n",
      "770/798 completed\n",
      "780/798 completed\n",
      "790/798 completed\n",
      "10/200 completed\n",
      "20/200 completed\n",
      "30/200 completed\n",
      "40/200 completed\n",
      "50/200 completed\n",
      "60/200 completed\n",
      "70/200 completed\n",
      "80/200 completed\n",
      "90/200 completed\n",
      "100/200 completed\n",
      "110/200 completed\n",
      "120/200 completed\n",
      "130/200 completed\n",
      "140/200 completed\n",
      "150/200 completed\n",
      "160/200 completed\n",
      "170/200 completed\n",
      "180/200 completed\n",
      "190/200 completed\n",
      "200/200 completed\n"
     ]
    }
   ],
   "source": [
    "# Use news article titles to perform sentiment analysis\n",
    "X_train = bert_embedder(X_train)\n",
    "X_test = bert_embedder(X_test)"
   ]
  },
  {
   "cell_type": "code",
   "execution_count": 36,
   "metadata": {},
   "outputs": [
    {
     "name": "stderr",
     "output_type": "stream",
     "text": [
      "C:\\Users\\junha\\Anaconda3\\lib\\site-packages\\sklearn\\linear_model\\_logistic.py:940: ConvergenceWarning: lbfgs failed to converge (status=1):\n",
      "STOP: TOTAL NO. of ITERATIONS REACHED LIMIT.\n",
      "\n",
      "Increase the number of iterations (max_iter) or scale the data as shown in:\n",
      "    https://scikit-learn.org/stable/modules/preprocessing.html\n",
      "Please also refer to the documentation for alternative solver options:\n",
      "    https://scikit-learn.org/stable/modules/linear_model.html#logistic-regression\n",
      "  extra_warning_msg=_LOGISTIC_SOLVER_CONVERGENCE_MSG)\n"
     ]
    },
    {
     "data": {
      "text/plain": [
       "LogisticRegression(C=3, class_weight=None, dual=False, fit_intercept=True,\n",
       "                   intercept_scaling=1, l1_ratio=None, max_iter=100,\n",
       "                   multi_class='auto', n_jobs=None, penalty='l2',\n",
       "                   random_state=None, solver='lbfgs', tol=0.0001, verbose=0,\n",
       "                   warm_start=False)"
      ]
     },
     "execution_count": 36,
     "metadata": {},
     "output_type": "execute_result"
    }
   ],
   "source": [
    "from sklearn.linear_model import LogisticRegression\n",
    "from sklearn.metrics import f1_score,accuracy_score\n",
    "\n",
    "lreg = LogisticRegression(C=3)\n",
    "lreg.fit(X_train, y_train)"
   ]
  },
  {
   "cell_type": "code",
   "execution_count": 37,
   "metadata": {},
   "outputs": [],
   "source": [
    "y_pred = lreg.predict(X_test)\n",
    "accuracy = accuracy_score(y_pred,y_test)\n",
    "f1 = f1_score(y_pred,y_test)"
   ]
  },
  {
   "cell_type": "code",
   "execution_count": 38,
   "metadata": {},
   "outputs": [
    {
     "data": {
      "text/plain": [
       "0.59"
      ]
     },
     "execution_count": 38,
     "metadata": {},
     "output_type": "execute_result"
    }
   ],
   "source": [
    "accuracy"
   ]
  }
 ],
 "metadata": {
  "kernelspec": {
   "display_name": "Python 3",
   "language": "python",
   "name": "python3"
  },
  "language_info": {
   "codemirror_mode": {
    "name": "ipython",
    "version": 3
   },
   "file_extension": ".py",
   "mimetype": "text/x-python",
   "name": "python",
   "nbconvert_exporter": "python",
   "pygments_lexer": "ipython3",
   "version": "3.7.4"
  }
 },
 "nbformat": 4,
 "nbformat_minor": 4
}
