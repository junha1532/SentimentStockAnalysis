{
 "cells": [
  {
   "cell_type": "code",
   "execution_count": 61,
   "metadata": {},
   "outputs": [],
   "source": [
    "import configparser\n",
    "import praw\n",
    "import pandas as pd\n",
    "from datetime import datetime, timedelta"
   ]
  },
  {
   "cell_type": "code",
   "execution_count": 2,
   "metadata": {},
   "outputs": [
    {
     "data": {
      "text/plain": [
       "['praw.ini']"
      ]
     },
     "execution_count": 2,
     "metadata": {},
     "output_type": "execute_result"
    }
   ],
   "source": [
    "config = configparser.ConfigParser()\n",
    "config.read('praw.ini')"
   ]
  },
  {
   "cell_type": "code",
   "execution_count": 3,
   "metadata": {},
   "outputs": [],
   "source": [
    "client_id = config['DEFAULT']['client_id']\n",
    "client_secret = config['DEFAULT']['client_secret']\n",
    "user_agent = config['DEFAULT']['user_agent']\n",
    "username = config['DEFAULT']['username']\n",
    "password = config['DEFAULT']['password']"
   ]
  },
  {
   "cell_type": "code",
   "execution_count": 4,
   "metadata": {},
   "outputs": [],
   "source": [
    "reddit = praw.Reddit(client_id=client_id, client_secret=client_secret, user_agent=user_agent,username=username, \n",
    "                     password=password)"
   ]
  },
  {
   "cell_type": "code",
   "execution_count": 103,
   "metadata": {
    "scrolled": true
   },
   "outputs": [],
   "source": [
    "# This is for extracting reddit posts \n",
    "row_list = []\n",
    "idx = []\n",
    "for submission in reddit.subreddit('investing').controversial(limit=10000):\n",
    "    unix_time = submission.created_utc\n",
    "    posted_time = (datetime.utcfromtimestamp(unix_time)-timedelta(hours=4)).strftime('%Y-%m-%d %H:%M:%S')\n",
    "    if submission.author != 'MasterCookSwag':\n",
    "        row_list.append({'title':submission.title, 'description':submission.selftext, 'upvote_count':submission.score, \n",
    "'comment_count':submission.num_comments})\n",
    "        idx.append(posted_time)\n",
    "df = pd.DataFrame(row_list,columns=['title', 'description','upvote_count','comment_count'],index=idx).sort_index()"
   ]
  },
  {
   "cell_type": "code",
   "execution_count": 99,
   "metadata": {},
   "outputs": [],
   "source": [
    "# This is for extracting reddit comments\n",
    "row_list = []\n",
    "idx = []\n",
    "for submission in reddit.subreddit('investing').hot(limit=100):\n",
    "    if submission.author != 'MasterCookSwag':\n",
    "        submission.comment_sort = 'controversial'\n",
    "        comments = submission.comments.list()\n",
    "        for comment in comments:\n",
    "            if isinstance(comment, praw.models.reddit.more.MoreComments) :\n",
    "                continue\n",
    "            else:\n",
    "                row_list.append({'description':comment.body, 'upvote_count':comment.score})\n",
    "                unix_time = comment.created_utc\n",
    "                posted_time = (datetime.utcfromtimestamp(unix_time)-timedelta(hours=4)).strftime('%Y-%m-%d %H:%M:%S')\n",
    "                idx.append(posted_time)\n",
    "df = pd.DataFrame(row_list,columns=['description','upvote_count'],index=idx).sort_index()"
   ]
  },
  {
   "cell_type": "code",
   "execution_count": 100,
   "metadata": {},
   "outputs": [
    {
     "data": {
      "text/html": [
       "<div>\n",
       "<style scoped>\n",
       "    .dataframe tbody tr th:only-of-type {\n",
       "        vertical-align: middle;\n",
       "    }\n",
       "\n",
       "    .dataframe tbody tr th {\n",
       "        vertical-align: top;\n",
       "    }\n",
       "\n",
       "    .dataframe thead th {\n",
       "        text-align: right;\n",
       "    }\n",
       "</style>\n",
       "<table border=\"1\" class=\"dataframe\">\n",
       "  <thead>\n",
       "    <tr style=\"text-align: right;\">\n",
       "      <th></th>\n",
       "      <th>description</th>\n",
       "      <th>upvote_count</th>\n",
       "    </tr>\n",
       "  </thead>\n",
       "  <tbody>\n",
       "    <tr>\n",
       "      <th>2020-03-19 13:23:41</th>\n",
       "      <td>**Hi, welcome to /r/investing. Please note tha...</td>\n",
       "      <td>1</td>\n",
       "    </tr>\n",
       "    <tr>\n",
       "      <th>2020-03-19 13:30:37</th>\n",
       "      <td>Why not, at the very least, demand companies s...</td>\n",
       "      <td>189</td>\n",
       "    </tr>\n",
       "    <tr>\n",
       "      <th>2020-03-19 13:43:36</th>\n",
       "      <td>1.  I wonder if this means it's actually a ser...</td>\n",
       "      <td>34</td>\n",
       "    </tr>\n",
       "    <tr>\n",
       "      <th>2020-03-19 13:52:46</th>\n",
       "      <td>In many cases that stock is taken out of circu...</td>\n",
       "      <td>26</td>\n",
       "    </tr>\n",
       "    <tr>\n",
       "      <th>2020-03-19 14:12:26</th>\n",
       "      <td>That sounds like justice, but financially sort...</td>\n",
       "      <td>144</td>\n",
       "    </tr>\n",
       "    <tr>\n",
       "      <th>...</th>\n",
       "      <td>...</td>\n",
       "      <td>...</td>\n",
       "    </tr>\n",
       "    <tr>\n",
       "      <th>2020-03-21 22:20:09</th>\n",
       "      <td>thank you for that, very well explained!</td>\n",
       "      <td>1</td>\n",
       "    </tr>\n",
       "    <tr>\n",
       "      <th>2020-03-21 22:21:06</th>\n",
       "      <td>He is buying DAL [https://www.barrons.com/arti...</td>\n",
       "      <td>1</td>\n",
       "    </tr>\n",
       "    <tr>\n",
       "      <th>2020-03-21 22:21:08</th>\n",
       "      <td>More weird than dystopic. \\n\\nThe fed has made...</td>\n",
       "      <td>1</td>\n",
       "    </tr>\n",
       "    <tr>\n",
       "      <th>2020-03-21 22:21:18</th>\n",
       "      <td>We'll see 16k this coming week, it won't be th...</td>\n",
       "      <td>1</td>\n",
       "    </tr>\n",
       "    <tr>\n",
       "      <th>2020-03-21 22:22:32</th>\n",
       "      <td>Nice! In times like these, I feel truly lucky ...</td>\n",
       "      <td>1</td>\n",
       "    </tr>\n",
       "  </tbody>\n",
       "</table>\n",
       "<p>5712 rows × 2 columns</p>\n",
       "</div>"
      ],
      "text/plain": [
       "                                                           description  \\\n",
       "2020-03-19 13:23:41  **Hi, welcome to /r/investing. Please note tha...   \n",
       "2020-03-19 13:30:37  Why not, at the very least, demand companies s...   \n",
       "2020-03-19 13:43:36  1.  I wonder if this means it's actually a ser...   \n",
       "2020-03-19 13:52:46  In many cases that stock is taken out of circu...   \n",
       "2020-03-19 14:12:26  That sounds like justice, but financially sort...   \n",
       "...                                                                ...   \n",
       "2020-03-21 22:20:09           thank you for that, very well explained!   \n",
       "2020-03-21 22:21:06  He is buying DAL [https://www.barrons.com/arti...   \n",
       "2020-03-21 22:21:08  More weird than dystopic. \\n\\nThe fed has made...   \n",
       "2020-03-21 22:21:18  We'll see 16k this coming week, it won't be th...   \n",
       "2020-03-21 22:22:32  Nice! In times like these, I feel truly lucky ...   \n",
       "\n",
       "                     upvote_count  \n",
       "2020-03-19 13:23:41             1  \n",
       "2020-03-19 13:30:37           189  \n",
       "2020-03-19 13:43:36            34  \n",
       "2020-03-19 13:52:46            26  \n",
       "2020-03-19 14:12:26           144  \n",
       "...                           ...  \n",
       "2020-03-21 22:20:09             1  \n",
       "2020-03-21 22:21:06             1  \n",
       "2020-03-21 22:21:08             1  \n",
       "2020-03-21 22:21:18             1  \n",
       "2020-03-21 22:22:32             1  \n",
       "\n",
       "[5712 rows x 2 columns]"
      ]
     },
     "execution_count": 100,
     "metadata": {},
     "output_type": "execute_result"
    }
   ],
   "source": [
    "df"
   ]
  },
  {
   "cell_type": "code",
   "execution_count": 102,
   "metadata": {},
   "outputs": [],
   "source": [
    "df.to_csv('investing_reddit_comments.csv')"
   ]
  },
  {
   "cell_type": "code",
   "execution_count": 104,
   "metadata": {},
   "outputs": [],
   "source": [
    "df.to_csv('investing_reddit_posts.csv')"
   ]
  }
 ],
 "metadata": {
  "kernelspec": {
   "display_name": "Python 3",
   "language": "python",
   "name": "python3"
  },
  "language_info": {
   "codemirror_mode": {
    "name": "ipython",
    "version": 3
   },
   "file_extension": ".py",
   "mimetype": "text/x-python",
   "name": "python",
   "nbconvert_exporter": "python",
   "pygments_lexer": "ipython3",
   "version": "3.7.4"
  }
 },
 "nbformat": 4,
 "nbformat_minor": 4
}
